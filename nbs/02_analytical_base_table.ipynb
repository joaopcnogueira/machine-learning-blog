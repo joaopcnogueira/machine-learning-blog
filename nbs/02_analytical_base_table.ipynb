{
 "cells": [
  {
   "cell_type": "markdown",
   "metadata": {},
   "source": [
    "# Analytical Base Table"
   ]
  },
  {
   "cell_type": "markdown",
   "metadata": {},
   "source": [
    "A Analytical Base Table (ABT), é a tabela analítica que é construída para treinar um modelo de machine learning. Cada registro deve representar uma entidade do problema que está sendo modelado e cada coluna uma feature da entidade, além de ter também uma coluna que será o target que queremos prever. \n",
    "\n",
    "Aqui iremos construir uma analytical base table para prever churn. Para isso, iremos utilizar os dados da [Olist disponíveis no Kaggle](https://www.kaggle.com/datasets/olistbr/brazilian-ecommerce) e iremos também construir a ABT utilizando `Pandas`. Caso queira uma outra discussão detalhada sobre construção de uma ABT de churn utilizando SQL ao invés de Pandas, recomendo fortemente um dos melhores conteúdos sobre machine learning na prática que existe, a playlista [DTona](https://www.youtube.com/watch?v=TNDiiVwQ5Vo&list=PLvlkVRRKOYFQOK176fl9bLjzFkvhIOSwu) no canal do youtube [Téo Me Why](https://www.youtube.com/channel/UC-Xa9J9-B4jBOoBNIHkMMKA).\n",
    "\n",
    "Primeiro, vamos carregar as tabelas necessárias:"
   ]
  },
  {
   "cell_type": "code",
   "execution_count": null,
   "metadata": {},
   "outputs": [],
   "source": [
    "#| eval: false\n",
    "import dateutil\n",
    "import numpy as np\n",
    "import pandas as pd"
   ]
  },
  {
   "cell_type": "code",
   "execution_count": null,
   "metadata": {},
   "outputs": [],
   "source": [
    "#| eval: false\n",
    "df_order_items = pd.read_csv('../datasets/olist_order_items_dataset.csv')\n",
    "df_orders = pd.read_csv('../datasets/olist_orders_dataset.csv', parse_dates=['order_approved_at'])\n",
    "df_sellers = pd.read_csv('../datasets/olist_sellers_dataset.csv')"
   ]
  },
  {
   "cell_type": "code",
   "execution_count": null,
   "metadata": {},
   "outputs": [],
   "source": [
    "#| eval: false\n",
    "df_abt = pd.DataFrame()\n",
    "\n",
    "for safra in pd.date_range('2017-03-01', '2018-03-01', freq='MS', normalize=True):\n",
    "    data_ref_safra = pd.to_datetime(safra).date()\n",
    "    data_inf_inclusiva = data_ref_safra - dateutil.relativedelta.relativedelta(months=12)\n",
    "    data_sup_exclusiva = data_ref_safra + dateutil.relativedelta.relativedelta(months=6)\n",
    "\n",
    "    # filtrando o período histórico\n",
    "    df_historico = (\n",
    "        df_order_items\n",
    "        .merge(df_orders, on='order_id', how='left')\n",
    "        .query(\" order_status == 'delivered' \")\n",
    "        .query(f\"order_approved_at >= '{data_inf_inclusiva}' & order_approved_at < '{data_sup_exclusiva}' \")\n",
    "        .merge(df_sellers, on='seller_id', how='left')\n",
    "    )  \n",
    "\n",
    "    # calculando as features\n",
    "    df_features = (\n",
    "        df_historico\n",
    "        .query(f'order_approved_at < \"{data_ref_safra}\" ')\n",
    "        .groupby('seller_id')\n",
    "        .agg(\n",
    "            uf = ('seller_state', 'first'),\n",
    "            receita_12m = ('price', 'sum'),\n",
    "            qtde_orders_12m = ('order_id', 'nunique'),\n",
    "            qtde_items_12m = ('product_id', 'count'),\n",
    "            qtde_items_dist_12m = ('product_id', 'nunique'),\n",
    "            data_ult_vnd = ('order_approved_at', 'max')\n",
    "        )\n",
    "        .reset_index()\n",
    "        .assign(data_ref = pd.to_datetime(f'{data_ref_safra}'))\n",
    "        .assign(recencia = lambda df_: (df_['data_ref'] - df_['data_ult_vnd']).dt.days)\n",
    "    )     \n",
    "\n",
    "    # calculando o target\n",
    "    df_target = (\n",
    "        df_historico\n",
    "        .query(f'order_approved_at >= \"{data_ref_safra}\" & order_approved_at < \"{data_sup_exclusiva}\" ')\n",
    "        .filter(['seller_id'])\n",
    "        .drop_duplicates()\n",
    "    ) \n",
    "\n",
    "    # cruzando as features com o target: gerando a ABT\n",
    "    df_abt_safra = (\n",
    "        df_features\n",
    "        .merge(df_target, how='left', on='seller_id', indicator=True)\n",
    "        .assign(nao_revendeu_next_6m = lambda df_: np.where(df_['_merge'] == 'left_only', 1, 0))\n",
    "        .assign(data_ref = lambda df_: df_['data_ref'].dt.date)\n",
    "        .filter(['data_ref',\n",
    "                 'seller_id',\n",
    "                 'uf',\n",
    "                 'receita_12m',\n",
    "                 'qtde_orders_12m',\n",
    "                 'recencia',\n",
    "                 'qtde_items_12m',\n",
    "                 'qtde_items_dist_12m',\n",
    "                 'nao_revendeu_next_6m'\n",
    "        ])\n",
    "    )     \n",
    "\n",
    "    df_abt = pd.concat([df_abt, df_abt_safra])  "
   ]
  },
  {
   "cell_type": "markdown",
   "metadata": {},
   "source": [
    "# ABT Construída"
   ]
  },
  {
   "cell_type": "code",
   "execution_count": null,
   "metadata": {},
   "outputs": [
    {
     "data": {
      "text/html": [
       "<div>\n",
       "<style scoped>\n",
       "    .dataframe tbody tr th:only-of-type {\n",
       "        vertical-align: middle;\n",
       "    }\n",
       "\n",
       "    .dataframe tbody tr th {\n",
       "        vertical-align: top;\n",
       "    }\n",
       "\n",
       "    .dataframe thead th {\n",
       "        text-align: right;\n",
       "    }\n",
       "</style>\n",
       "<table border=\"1\" class=\"dataframe\">\n",
       "  <thead>\n",
       "    <tr style=\"text-align: right;\">\n",
       "      <th></th>\n",
       "      <th>data_ref</th>\n",
       "      <th>seller_id</th>\n",
       "      <th>uf</th>\n",
       "      <th>receita_12m</th>\n",
       "      <th>qtde_orders_12m</th>\n",
       "      <th>recencia</th>\n",
       "      <th>qtde_items_12m</th>\n",
       "      <th>qtde_items_dist_12m</th>\n",
       "      <th>nao_revendeu_next_6m</th>\n",
       "    </tr>\n",
       "  </thead>\n",
       "  <tbody>\n",
       "    <tr>\n",
       "      <th>0</th>\n",
       "      <td>2017-03-01</td>\n",
       "      <td>001cca7ae9ae17fb1caed9dfb1094831</td>\n",
       "      <td>ES</td>\n",
       "      <td>899.10</td>\n",
       "      <td>4</td>\n",
       "      <td>0</td>\n",
       "      <td>9</td>\n",
       "      <td>1</td>\n",
       "      <td>0</td>\n",
       "    </tr>\n",
       "    <tr>\n",
       "      <th>1</th>\n",
       "      <td>2017-03-01</td>\n",
       "      <td>004c9cd9d87a3c30c522c48c4fc07416</td>\n",
       "      <td>SP</td>\n",
       "      <td>2629.31</td>\n",
       "      <td>17</td>\n",
       "      <td>1</td>\n",
       "      <td>20</td>\n",
       "      <td>15</td>\n",
       "      <td>0</td>\n",
       "    </tr>\n",
       "    <tr>\n",
       "      <th>2</th>\n",
       "      <td>2017-03-01</td>\n",
       "      <td>011b0eaba87386a2ae96a7d32bb531d1</td>\n",
       "      <td>SP</td>\n",
       "      <td>99.98</td>\n",
       "      <td>1</td>\n",
       "      <td>144</td>\n",
       "      <td>2</td>\n",
       "      <td>1</td>\n",
       "      <td>1</td>\n",
       "    </tr>\n",
       "    <tr>\n",
       "      <th>3</th>\n",
       "      <td>2017-03-01</td>\n",
       "      <td>014c0679dd340a0e338872e7ec85666a</td>\n",
       "      <td>MG</td>\n",
       "      <td>220.00</td>\n",
       "      <td>2</td>\n",
       "      <td>9</td>\n",
       "      <td>2</td>\n",
       "      <td>1</td>\n",
       "      <td>0</td>\n",
       "    </tr>\n",
       "    <tr>\n",
       "      <th>4</th>\n",
       "      <td>2017-03-01</td>\n",
       "      <td>01cf7e3d21494c41fb86034f2e714fa1</td>\n",
       "      <td>PR</td>\n",
       "      <td>992.90</td>\n",
       "      <td>8</td>\n",
       "      <td>4</td>\n",
       "      <td>8</td>\n",
       "      <td>3</td>\n",
       "      <td>0</td>\n",
       "    </tr>\n",
       "    <tr>\n",
       "      <th>...</th>\n",
       "      <td>...</td>\n",
       "      <td>...</td>\n",
       "      <td>...</td>\n",
       "      <td>...</td>\n",
       "      <td>...</td>\n",
       "      <td>...</td>\n",
       "      <td>...</td>\n",
       "      <td>...</td>\n",
       "      <td>...</td>\n",
       "    </tr>\n",
       "    <tr>\n",
       "      <th>1869</th>\n",
       "      <td>2018-03-01</td>\n",
       "      <td>ff82e8873fba613f2261a9acc896fd84</td>\n",
       "      <td>MG</td>\n",
       "      <td>124.60</td>\n",
       "      <td>4</td>\n",
       "      <td>12</td>\n",
       "      <td>4</td>\n",
       "      <td>3</td>\n",
       "      <td>1</td>\n",
       "    </tr>\n",
       "    <tr>\n",
       "      <th>1870</th>\n",
       "      <td>2018-03-01</td>\n",
       "      <td>ffc470761de7d0232558ba5e786e57b7</td>\n",
       "      <td>SP</td>\n",
       "      <td>385.59</td>\n",
       "      <td>5</td>\n",
       "      <td>0</td>\n",
       "      <td>5</td>\n",
       "      <td>5</td>\n",
       "      <td>0</td>\n",
       "    </tr>\n",
       "    <tr>\n",
       "      <th>1871</th>\n",
       "      <td>2018-03-01</td>\n",
       "      <td>ffdd9f82b9a447f6f8d4b91554cc7dd3</td>\n",
       "      <td>PR</td>\n",
       "      <td>1450.20</td>\n",
       "      <td>11</td>\n",
       "      <td>7</td>\n",
       "      <td>12</td>\n",
       "      <td>8</td>\n",
       "      <td>0</td>\n",
       "    </tr>\n",
       "    <tr>\n",
       "      <th>1872</th>\n",
       "      <td>2018-03-01</td>\n",
       "      <td>ffeee66ac5d5a62fe688b9d26f83f534</td>\n",
       "      <td>SP</td>\n",
       "      <td>1709.87</td>\n",
       "      <td>13</td>\n",
       "      <td>0</td>\n",
       "      <td>13</td>\n",
       "      <td>3</td>\n",
       "      <td>0</td>\n",
       "    </tr>\n",
       "    <tr>\n",
       "      <th>1873</th>\n",
       "      <td>2018-03-01</td>\n",
       "      <td>fffd5413c0700ac820c7069d66d98c89</td>\n",
       "      <td>SP</td>\n",
       "      <td>5488.60</td>\n",
       "      <td>33</td>\n",
       "      <td>14</td>\n",
       "      <td>34</td>\n",
       "      <td>22</td>\n",
       "      <td>0</td>\n",
       "    </tr>\n",
       "  </tbody>\n",
       "</table>\n",
       "<p>15656 rows × 9 columns</p>\n",
       "</div>"
      ],
      "text/plain": [
       "        data_ref                         seller_id  uf  receita_12m  \\\n",
       "0     2017-03-01  001cca7ae9ae17fb1caed9dfb1094831  ES       899.10   \n",
       "1     2017-03-01  004c9cd9d87a3c30c522c48c4fc07416  SP      2629.31   \n",
       "2     2017-03-01  011b0eaba87386a2ae96a7d32bb531d1  SP        99.98   \n",
       "3     2017-03-01  014c0679dd340a0e338872e7ec85666a  MG       220.00   \n",
       "4     2017-03-01  01cf7e3d21494c41fb86034f2e714fa1  PR       992.90   \n",
       "...          ...                               ...  ..          ...   \n",
       "1869  2018-03-01  ff82e8873fba613f2261a9acc896fd84  MG       124.60   \n",
       "1870  2018-03-01  ffc470761de7d0232558ba5e786e57b7  SP       385.59   \n",
       "1871  2018-03-01  ffdd9f82b9a447f6f8d4b91554cc7dd3  PR      1450.20   \n",
       "1872  2018-03-01  ffeee66ac5d5a62fe688b9d26f83f534  SP      1709.87   \n",
       "1873  2018-03-01  fffd5413c0700ac820c7069d66d98c89  SP      5488.60   \n",
       "\n",
       "      qtde_orders_12m  recencia  qtde_items_12m  qtde_items_dist_12m  \\\n",
       "0                   4         0               9                    1   \n",
       "1                  17         1              20                   15   \n",
       "2                   1       144               2                    1   \n",
       "3                   2         9               2                    1   \n",
       "4                   8         4               8                    3   \n",
       "...               ...       ...             ...                  ...   \n",
       "1869                4        12               4                    3   \n",
       "1870                5         0               5                    5   \n",
       "1871               11         7              12                    8   \n",
       "1872               13         0              13                    3   \n",
       "1873               33        14              34                   22   \n",
       "\n",
       "      nao_revendeu_next_6m  \n",
       "0                        0  \n",
       "1                        0  \n",
       "2                        1  \n",
       "3                        0  \n",
       "4                        0  \n",
       "...                    ...  \n",
       "1869                     1  \n",
       "1870                     0  \n",
       "1871                     0  \n",
       "1872                     0  \n",
       "1873                     0  \n",
       "\n",
       "[15656 rows x 9 columns]"
      ]
     },
     "execution_count": null,
     "metadata": {},
     "output_type": "execute_result"
    }
   ],
   "source": [
    "#| eval: false\n",
    "df_abt"
   ]
  },
  {
   "cell_type": "markdown",
   "metadata": {},
   "source": [
    "# Público e Churn no Tempo"
   ]
  },
  {
   "cell_type": "markdown",
   "metadata": {},
   "source": [
    "Para cada seller em um período de tempo (safra), temos uma série de features que irá nos ajudar a prever o target `nao_revendeu_next_6m`."
   ]
  },
  {
   "cell_type": "code",
   "execution_count": null,
   "metadata": {},
   "outputs": [
    {
     "data": {
      "image/png": "[encoded data removed]",
      "text/plain": [
       "<Figure size 720x360 with 1 Axes>"
      ]
     },
     "metadata": {
      "needs_background": "light"
     },
     "output_type": "display_data"
    }
   ],
   "source": [
    "#| eval: false\n",
    "df_abt['data_ref'].value_counts(ascending=True).plot(kind='bar', title='Quantidade de Sellers por Safra', figsize=(10,5), rot=30);"
   ]
  },
  {
   "cell_type": "code",
   "execution_count": null,
   "metadata": {},
   "outputs": [
    {
     "data": {
      "image/png": "[encoded data removed]",
      "text/plain": [
       "<Figure size 720x360 with 1 Axes>"
      ]
     },
     "metadata": {
      "needs_background": "light"
     },
     "output_type": "display_data"
    }
   ],
   "source": [
    "#| eval: false\n",
    "df_abt.groupby('data_ref')['nao_revendeu_next_6m'].mean().plot(title='Percentual de Sellers que deram Churn por safra', figsize=(10,5), xlabel='');"
   ]
  },
  {
   "cell_type": "code",
   "execution_count": null,
   "metadata": {},
   "outputs": [
    {
     "data": {
      "image/png": "[encoded data removed]",
      "text/plain": [
       "<Figure size 720x360 with 1 Axes>"
      ]
     },
     "metadata": {
      "needs_background": "light"
     },
     "output_type": "display_data"
    }
   ],
   "source": [
    "#| eval: false\n",
    "(df_abt.groupby(['data_ref', 'nao_revendeu_next_6m'])['nao_revendeu_next_6m'].size() / df_abt.groupby('data_ref').size()).unstack().plot(kind='area', figsize=(10,5), xlabel='');"
   ]
  },
  {
   "cell_type": "markdown",
   "metadata": {},
   "source": [
    "De fato, o churn vem aumentando ao longo do tempo. Isso talvez seja esperado, dado que a operação da Olist em 2017-03 era bem recente e ali havíamos os primeiros clientes, chamados `early adopters`, que podem simplesmente ter testado o serviço e abandonado."
   ]
  },
  {
   "cell_type": "markdown",
   "metadata": {},
   "source": [
    "Como próximo passo, podemos já treinar um modelo de machine learning. Mas esse é um assunto para o próximo post, fique ligado!"
   ]
  },
  {
   "cell_type": "code",
   "execution_count": null,
   "metadata": {},
   "outputs": [],
   "source": []
  }
 ],
 "metadata": {
  "kernelspec": {
   "display_name": "Python 3.8.13 ('machine-learning-blog')",
   "language": "python",
   "name": "python3"
  }
 },
 "nbformat": 4,
 "nbformat_minor": 2
}
