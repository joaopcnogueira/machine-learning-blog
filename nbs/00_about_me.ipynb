{
 "cells": [
  {
   "cell_type": "markdown",
   "metadata": {},
   "source": [
    "## About me"
   ]
  },
  {
   "cell_type": "markdown",
   "metadata": {},
   "source": [
    "Oi, eu sou João!\n",
    "\n",
    "Sou bacharel em física, com mestrado e doutorando na área. Formado pela [Universidade Federal do Ceará - UFC](https://www.ufc.br/)\n",
    "\n",
    "Meus tópicos de interesse acadêmico e pesquisa sempre estiveram relacionados com estatística, computação e claro, física.\n",
    "\n",
    "Em 2018 comecei a atuar como cientista de dados no mercado de trabalho, para um das maiores empresas de varejo e e-commerce do Brasil, a Via Varejo.\n",
    "\n",
    "Hoje em dia atuo como Lead Data Scientist na [Datarisk](https://www.datarisk.io/), uma consultoria especializada em modelagem preditiva e também dou aulas de Machine Learning e Python no [Labdata](https://labdata.fia.com.br/), um departamento de tecnologia da Fundação Instituto de Administração focado em dados."
   ]
  },
  {
   "cell_type": "code",
   "execution_count": null,
   "metadata": {},
   "outputs": [],
   "source": []
  }
 ],
 "metadata": {
  "kernelspec": {
   "display_name": "python3",
   "language": "python",
   "name": "python3"
  }
 },
 "nbformat": 4,
 "nbformat_minor": 2
}
