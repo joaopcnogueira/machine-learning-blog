{
 "cells": [
  {
   "cell_type": "markdown",
   "metadata": {},
   "source": [
    "# O que é machine learning?\n",
    "\n",
    "> Quando você escuta ou lê a palavra machine learning, o que vem a sua cabeça?"
   ]
  },
  {
   "cell_type": "markdown",
   "metadata": {},
   "source": []
  }
 ],
 "metadata": {
  "kernelspec": {
   "display_name": "Python 3.8.13 ('machine-learning-blog')",
   "language": "python",
   "name": "python3"
  },
  "language_info": {
   "name": "python",
   "version": "3.8.13"
  },
  "vscode": {
   "interpreter": {
    "hash": "654bd8658c8b28ef92f9d1edd9bdac2baa332837bc277f6672c5c1ebebdf6dee"
   }
  }
 },
 "nbformat": 4,
 "nbformat_minor": 4
}
