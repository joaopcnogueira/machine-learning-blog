{
 "cells": [
  {
   "cell_type": "markdown",
   "metadata": {},
   "source": [
    "# Publications"
   ]
  },
  {
   "cell_type": "markdown",
   "metadata": {},
   "source": [
    "1. [A Very Short Introduction to Machine Learning](https://medium.com/@joaopcnogueira/a-very-short-introduction-to-machine-learning-23a2b67eb39c)\n",
    "2. [Como criar K-Fold Cross-Validation na mão em Python](https://medium.com/data-hackers/como-criar-k-fold-cross-validation-na-m%C3%A3o-em-python-c0bb06074b6b)\n",
    "3. [Como usar Pipelines no Scikit-Learn](https://medium.com/data-hackers/como-usar-pipelines-no-scikit-learn-1398a4cc6ae9)\n",
    "4. [Spatio-Temporal Characteristics of Dengue Outbreaks](https://www.frontiersin.org/articles/10.3389/fphy.2022.923099/full?&utm_source=Email_to_authors_&utm_medium=Email&utm_content=T1_11.5e1_author&utm_campaign=Email_publication&field=&journalName=Frontiers_in_Physics&id=923099)\n",
    "5. [Banking as a Service - Como a Datarisk pode ajudar a sua empresa a explorar o BaaS?](https://medium.com/datarisk-io/banking-as-a-service-5e0d557a2743)"
   ]
  },
  {
   "cell_type": "code",
   "execution_count": null,
   "metadata": {},
   "outputs": [],
   "source": []
  }
 ],
 "metadata": {
  "kernelspec": {
   "display_name": "Python 3.8.13 ('machine-learning-blog')",
   "language": "python",
   "name": "python3"
  }
 },
 "nbformat": 4,
 "nbformat_minor": 2
}
