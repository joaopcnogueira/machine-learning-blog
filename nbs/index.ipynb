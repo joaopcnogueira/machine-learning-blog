{
 "cells": [
  {
   "cell_type": "markdown",
   "metadata": {},
   "source": [
    "# Machine Learning Blog\n",
    "\n",
    "> A blog about machine learning code, examples, package tests and use cases."
   ]
  },
  {
   "cell_type": "markdown",
   "metadata": {},
   "source": [
    "## Summary"
   ]
  },
  {
   "cell_type": "markdown",
   "metadata": {},
   "source": [
    "- O que é machine learning?\n",
    "- Analytical Base Table: O que é?\n",
    "- Aprendizagem Supervisionada - Classificação\n",
    "- Aprendizagem Supervisionada - Regressão\n",
    "- Aprendizagem Supervisionada - Clusterização"
   ]
  },
  {
   "cell_type": "code",
   "execution_count": null,
   "metadata": {},
   "outputs": [],
   "source": []
  }
 ],
 "metadata": {
  "kernelspec": {
   "display_name": "Python 3.8.13 ('machine-learning-blog')",
   "language": "python",
   "name": "python3"
  }
 },
 "nbformat": 4,
 "nbformat_minor": 4
}
