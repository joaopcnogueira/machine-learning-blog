{
 "cells": [
  {
   "cell_type": "markdown",
   "metadata": {},
   "source": [
    "# Machine Learning Blog\n",
    "\n",
    "> A blog about machine learning code, examples, package tests and use cases."
   ]
  },
  {
   "cell_type": "markdown",
   "metadata": {},
   "source": [
    "Nesse blog irei postar notebooks com exemplos de códigos sobre os mais diversos assuntos e tópicos dentro do universo de machine learning."
   ]
  },
  {
   "cell_type": "markdown",
   "metadata": {},
   "source": [
    "## O que você encontrará"
   ]
  },
  {
   "cell_type": "markdown",
   "metadata": {},
   "source": [
    "- Notebooks\n",
    "- Textos\n",
    "- Recomendações de cursos, tutoriais e livros"
   ]
  },
  {
   "cell_type": "markdown",
   "metadata": {},
   "source": [
    "## How to contribute"
   ]
  },
  {
   "cell_type": "markdown",
   "metadata": {},
   "source": [
    "1. Clone this repo\n",
    "2. Install nbdev with `pip install nbdev`\n",
    "3. Run `nbdev_install_quarto`\n",
    "4. Run `nbdev_install_hooks`\n",
    "5. Make the necessary changes (update the necessary files)\n",
    "6. Run `nbdev_prepare`\n",
    "7. Run `nbdev_preview` to check if everything is correctly updated\n",
    "8. `Commit` and `push`"
   ]
  },
  {
   "cell_type": "markdown",
   "metadata": {},
   "source": []
  }
 ],
 "metadata": {
  "kernelspec": {
   "display_name": "python3",
   "language": "python",
   "name": "python3"
  }
 },
 "nbformat": 4,
 "nbformat_minor": 4
}
