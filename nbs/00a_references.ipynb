{
 "cells": [
  {
   "cell_type": "markdown",
   "metadata": {},
   "source": [
    "# Useful Resources"
   ]
  },
  {
   "cell_type": "markdown",
   "metadata": {},
   "source": [
    "Below are useful links for machine learning and predictive modeling topics."
   ]
  },
  {
   "cell_type": "markdown",
   "metadata": {},
   "source": [
    "# Churn and Propensity Modeling"
   ]
  },
  {
   "cell_type": "markdown",
   "metadata": {},
   "source": [
    "1. [Predict Customer Churn (the right way) using PyCaret](https://towardsdatascience.com/predict-customer-churn-the-right-way-using-pycaret-8ba6541608ac)\n",
    "2. [Dataiku Use Case: Churn Prediction](https://academy.dataiku.com/use-case-churn-prediction)\n",
    "3. [Predicting Super Customers using Feature Labs and PyCaret](https://antonsruberts.github.io/propensity-model/?utm_medium=social&utm_source=linkedin&utm_campaign=postfity&utm_content=postfity7a23e)\n",
    "4. [ComposeML: Predict Next Purchase](https://compose.alteryx.com/en/stable/examples/predict_next_purchase.html)"
   ]
  },
  {
   "cell_type": "markdown",
   "metadata": {},
   "source": [
    "# Lead Scoring"
   ]
  },
  {
   "cell_type": "markdown",
   "metadata": {},
   "source": [
    "1. [Lead Scoring: o guia definitivo para pontuar seus contatos automaticmaente](https://resultadosdigitais.com.br/marketing/o-que-e-lead-scoring/)\n",
    "2. [A sofisticação do Lead Scoring com Data Science](https://ilumeo.com.br/todos-posts/2020/06/22/a-sofisticacao-do-lead-scoring-com-data-science)\n",
    "3. [Predict Lead Score (the right way) using PyCaret](https://towardsdatascience.com/predict-lead-score-the-right-way-using-pycaret-332faa780cfc)\n"
   ]
  },
  {
   "cell_type": "code",
   "execution_count": null,
   "metadata": {},
   "outputs": [],
   "source": []
  }
 ],
 "metadata": {
  "kernelspec": {
   "display_name": "Python 3.8.13 ('machine-learning-blog')",
   "language": "python",
   "name": "python3"
  },
  "language_info": {
   "name": "python",
   "version": "3.8.13"
  },
  "orig_nbformat": 4,
  "vscode": {
   "interpreter": {
    "hash": "654bd8658c8b28ef92f9d1edd9bdac2baa332837bc277f6672c5c1ebebdf6dee"
   }
  }
 },
 "nbformat": 4,
 "nbformat_minor": 2
}
