{
 "cells": [
  {
   "cell_type": "markdown",
   "metadata": {},
   "source": [
    "# References"
   ]
  },
  {
   "cell_type": "markdown",
   "metadata": {},
   "source": [
    "Below are useful links for machine learning and predictive modeling topics."
   ]
  },
  {
   "cell_type": "code",
   "execution_count": null,
   "metadata": {},
   "outputs": [],
   "source": []
  },
  {
   "cell_type": "markdown",
   "metadata": {},
   "source": [
    "## Machine Learning Packages"
   ]
  },
  {
   "cell_type": "markdown",
   "metadata": {},
   "source": [
    "1. [scikit-plot](https://scikit-plot.readthedocs.io/en/stable/): package to build several plots not yet supported on sklearn like ks, cumulative gain and lift plots.\n",
    "2. [feature-engine](https://feature-engine.readthedocs.io/en/latest/): package for feature engineering within sklearn pipelines.\n",
    "3. [XuniVerse](https://github.com/Sundar0989/XuniVerse): calculates information values (IV) and weights of evidence (woe)\n",
    "4. [OptBinning](http://gnpalencia.org/optbinning/tutorials/tutorial_scorecard_binary_target.html): scorecard development \n",
    "5. [PyCaret](https://pycaret.readthedocs.io/en/latest/index.html): automl package\n"
   ]
  },
  {
   "cell_type": "code",
   "execution_count": null,
   "metadata": {},
   "outputs": [],
   "source": []
  },
  {
   "cell_type": "markdown",
   "metadata": {},
   "source": [
    "## Machine Learning Courses"
   ]
  },
  {
   "cell_type": "markdown",
   "metadata": {},
   "source": [
    "1. [Machine Learning: Andrew Ng](https://www.coursera.org/learn/machine-learning)\n",
    "2. [DTona - Canal Téo Me Why](https://www.youtube.com/watch?v=TNDiiVwQ5Vo&list=PLvlkVRRKOYFQOK176fl9bLjzFkvhIOSwu): aplicação de machine learning como ela é na vida real, saindo desde a construção da analytical base também até por o modelo em produção.\n",
    "3. [Kaggle Learn](https://www.kaggle.com/learn)\n"
   ]
  },
  {
   "cell_type": "markdown",
   "metadata": {},
   "source": [
    "## Books"
   ]
  },
  {
   "cell_type": "markdown",
   "metadata": {},
   "source": [
    "1. [Python Data Science Handbook](https://jakevdp.github.io/PythonDataScienceHandbook/)\n",
    "2. [Python for Data Analysis](https://wesmckinney.com/book/)\n",
    "2. [Statistical Inference via Data Science](https://moderndive.com/index.html)"
   ]
  },
  {
   "cell_type": "code",
   "execution_count": null,
   "metadata": {},
   "outputs": [],
   "source": []
  },
  {
   "cell_type": "markdown",
   "metadata": {},
   "source": [
    "## Churn and Propensity Modeling"
   ]
  },
  {
   "cell_type": "markdown",
   "metadata": {},
   "source": [
    "1. [Predict Customer Churn (the right way) using PyCaret](https://towardsdatascience.com/predict-customer-churn-the-right-way-using-pycaret-8ba6541608ac)\n",
    "2. [Dataiku Use Case: Churn Prediction](https://academy.dataiku.com/use-case-churn-prediction)\n",
    "3. [Predicting Super Customers using Feature Labs and PyCaret](https://antonsruberts.github.io/propensity-model/?utm_medium=social&utm_source=linkedin&utm_campaign=postfity&utm_content=postfity7a23e)\n",
    "4. [ComposeML: Predict Next Purchase](https://compose.alteryx.com/en/stable/examples/predict_next_purchase.html)"
   ]
  },
  {
   "cell_type": "code",
   "execution_count": null,
   "metadata": {},
   "outputs": [],
   "source": []
  },
  {
   "cell_type": "markdown",
   "metadata": {},
   "source": [
    "## Lead Scoring"
   ]
  },
  {
   "cell_type": "markdown",
   "metadata": {},
   "source": [
    "1. [Lead Scoring: o guia definitivo para pontuar seus contatos automaticmaente](https://resultadosdigitais.com.br/marketing/o-que-e-lead-scoring/)\n",
    "2. [A sofisticação do Lead Scoring com Data Science](https://ilumeo.com.br/todos-posts/2020/06/22/a-sofisticacao-do-lead-scoring-com-data-science)\n",
    "3. [Predict Lead Score (the right way) using PyCaret](https://towardsdatascience.com/predict-lead-score-the-right-way-using-pycaret-332faa780cfc)\n"
   ]
  },
  {
   "cell_type": "code",
   "execution_count": null,
   "metadata": {},
   "outputs": [],
   "source": []
  },
  {
   "cell_type": "code",
   "execution_count": null,
   "metadata": {},
   "outputs": [],
   "source": []
  }
 ],
 "metadata": {
  "kernelspec": {
   "display_name": "Python 3.8.13 ('machine-learning-blog')",
   "language": "python",
   "name": "python3"
  }
 },
 "nbformat": 4,
 "nbformat_minor": 2
}
